{
  "nbformat": 4,
  "nbformat_minor": 5,
  "metadata": {
    "kernelspec": {
      "display_name": "Python 3",
      "language": "python",
      "name": "python3"
    },
    "language_info": {
      "codemirror_mode": {
        "name": "ipython",
        "version": 3
      },
      "file_extension": ".py",
      "mimetype": "text/x-python",
      "name": "python",
      "nbconvert_exporter": "python",
      "pygments_lexer": "ipython3",
      "version": "3.8.8"
    },
    "colab": {
      "name": "book_recommendation_system.ipynb",
      "provenance": [],
      "collapsed_sections": []
    }
  },
  "cells": [
    {
      "cell_type": "code",
      "metadata": {
        "colab": {
          "base_uri": "https://localhost:8080/"
        },
        "id": "fvNDr2CgCCiS",
        "outputId": "7eb1866e-96bd-4d41-a858-0edc7fb0b102"
      },
      "source": [
        "from google.colab import drive\n",
        "drive.mount('/content/drive/') "
      ],
      "id": "fvNDr2CgCCiS",
      "execution_count": null,
      "outputs": [
        {
          "output_type": "stream",
          "text": [
            "Drive already mounted at /content/drive/; to attempt to forcibly remount, call drive.mount(\"/content/drive/\", force_remount=True).\n"
          ],
          "name": "stdout"
        }
      ]
    },
    {
      "cell_type": "code",
      "metadata": {
        "colab": {
          "base_uri": "https://localhost:8080/"
        },
        "id": "3lWGhGjeCQvA",
        "outputId": "ae4a3dd0-380b-46d8-df8a-c5b64474699f"
      },
      "source": [
        "cd \"/content/drive/My Drive/IRS\""
      ],
      "id": "3lWGhGjeCQvA",
      "execution_count": null,
      "outputs": [
        {
          "output_type": "stream",
          "text": [
            "/content/drive/My Drive/IRS\n"
          ],
          "name": "stdout"
        }
      ]
    },
    {
      "cell_type": "code",
      "metadata": {
        "id": "defensive-possibility"
      },
      "source": [
        "\n",
        "import numpy as np\n",
        "import pandas as pd\n",
        "import seaborn as sns\n",
        "import nltk"
      ],
      "id": "defensive-possibility",
      "execution_count": null,
      "outputs": []
    },
    {
      "cell_type": "code",
      "metadata": {
        "colab": {
          "base_uri": "https://localhost:8080/",
          "height": 152
        },
        "id": "external-petroleum",
        "outputId": "306264e2-84e8-43b5-9b38-16b4ea4ec30d"
      },
      "source": [
        "books = pd.read_csv('./goodbooks-10k/books.csv').loc[:,['book_id', 'goodreads_book_id', 'title', 'authors']]\n",
        "ratings = pd.read_csv('./goodbooks-10k/ratings.csv')\n",
        "book_tags = pd.read_csv('./goodbooks-10k/book_tags.csv')\n",
        "tags = pd.read_csv('./goodbooks-10k/tags.csv')\n",
        "\n",
        "print(books.shape)\n",
        "display(books.columns)\n",
        "\n",
        "print(ratings.shape)\n",
        "display(ratings.columns)\n",
        "\n",
        "print(book_tags.shape)\n",
        "display(book_tags.columns)\n",
        "\n",
        "print(tags.shape)\n",
        "display(tags.columns)"
      ],
      "id": "external-petroleum",
      "execution_count": null,
      "outputs": [
        {
          "output_type": "stream",
          "text": [
            "(10000, 4)\n"
          ],
          "name": "stdout"
        },
        {
          "output_type": "display_data",
          "data": {
            "text/plain": [
              "Index(['book_id', 'goodreads_book_id', 'title', 'authors'], dtype='object')"
            ]
          },
          "metadata": {
            "tags": []
          }
        },
        {
          "output_type": "stream",
          "text": [
            "(5976479, 3)\n"
          ],
          "name": "stdout"
        },
        {
          "output_type": "display_data",
          "data": {
            "text/plain": [
              "Index(['user_id', 'book_id', 'rating'], dtype='object')"
            ]
          },
          "metadata": {
            "tags": []
          }
        },
        {
          "output_type": "stream",
          "text": [
            "(999912, 3)\n"
          ],
          "name": "stdout"
        },
        {
          "output_type": "display_data",
          "data": {
            "text/plain": [
              "Index(['goodreads_book_id', 'tag_id', 'count'], dtype='object')"
            ]
          },
          "metadata": {
            "tags": []
          }
        },
        {
          "output_type": "stream",
          "text": [
            "(34252, 2)\n"
          ],
          "name": "stdout"
        },
        {
          "output_type": "display_data",
          "data": {
            "text/plain": [
              "Index(['tag_id', 'tag_name'], dtype='object')"
            ]
          },
          "metadata": {
            "tags": []
          }
        }
      ]
    },
    {
      "cell_type": "code",
      "metadata": {
        "colab": {
          "base_uri": "https://localhost:8080/"
        },
        "id": "aGXVs9sPdZKP",
        "outputId": "657b8cce-5ce3-4744-eb1f-e4a60dfc9424"
      },
      "source": [
        "ratings.user_id.max()"
      ],
      "id": "aGXVs9sPdZKP",
      "execution_count": null,
      "outputs": [
        {
          "output_type": "execute_result",
          "data": {
            "text/plain": [
              "53424"
            ]
          },
          "metadata": {
            "tags": []
          },
          "execution_count": 66
        }
      ]
    },
    {
      "cell_type": "code",
      "metadata": {
        "id": "FrukgPlTdFuy"
      },
      "source": [
        "ratings = ratings.append(pd.DataFrame({\n",
        "    'user_id' : [53425, 53425, 53425,53425],\n",
        "    'book_id' : [2,18,23,25],\n",
        "    'rating' : [4.5, 4.1, 3.8, 4.2]\n",
        "}), ignore_index = True)"
      ],
      "id": "FrukgPlTdFuy",
      "execution_count": null,
      "outputs": []
    },
    {
      "cell_type": "code",
      "metadata": {
        "id": "mature-glory"
      },
      "source": [
        "book_tags = book_tags.merge(right = books, how = 'inner', on = 'goodreads_book_id')\n"
      ],
      "id": "mature-glory",
      "execution_count": null,
      "outputs": []
    },
    {
      "cell_type": "code",
      "metadata": {
        "colab": {
          "base_uri": "https://localhost:8080/"
        },
        "id": "-GrhJC7slQ4y",
        "outputId": "b31074fd-b287-4396-a1ce-1b9eace77deb"
      },
      "source": [
        "from scipy.sparse import csr_matrix, dok_matrix, diags\n",
        "\n",
        "indices = np.array([(index, tagID) for index,(title, data) in enumerate(book_tags.sort_values(['title']).groupby(['title'])) for tagID in data['tag_id'].to_numpy()])\n",
        "title_mapping = dict([(title, index) for index,(title, data) in enumerate(book_tags.sort_values(['title']).groupby(['title']))])\n",
        "\n",
        "row_index = indices[:, 0]\n",
        "col_index = indices[:, 1]\n",
        "\n",
        "values = np.ones(indices.shape[0])\n",
        "\n",
        "\n",
        "n_books = books.title.unique().shape[0]\n",
        "n_tags = tags.tag_id.max() + 1\n",
        "\n",
        "tf = csr_matrix((values, (row_index, col_index)), shape = (n_books, n_tags))\n",
        "df = np.bincount(tf.indices, minlength=tf.shape[1])\n",
        "\n",
        "\n",
        "weights = diags(1/(np.array(tf.sum(axis = 1))[:,0]), offsets = 0, shape = (n_books, n_books))\n",
        "tf = weights@tf\n",
        "\n",
        "idf = np.log(n_books/(df + 1)) + 1\n",
        "\n",
        "idf = diags(idf, 0, shape=(n_tags, n_tags), format = 'csr')\n",
        "\n",
        "print(tf.shape, idf.shape)\n",
        "books_vector = tf@idf\n",
        "\n",
        "print(type(books_vector))"
      ],
      "id": "-GrhJC7slQ4y",
      "execution_count": null,
      "outputs": [
        {
          "output_type": "stream",
          "text": [
            "(9964, 34252) (34252, 34252)\n",
            "<class 'scipy.sparse.csr.csr_matrix'>\n"
          ],
          "name": "stdout"
        }
      ]
    },
    {
      "cell_type": "code",
      "metadata": {
        "id": "injured-pavilion"
      },
      "source": [
        "user_book_ratings = ratings.merge(right = books,how = 'inner', on = 'book_id')\n"
      ],
      "id": "injured-pavilion",
      "execution_count": null,
      "outputs": []
    },
    {
      "cell_type": "code",
      "metadata": {
        "id": "progressive-behavior",
        "colab": {
          "base_uri": "https://localhost:8080/"
        },
        "outputId": "92c8755e-d782-4dff-b29b-c2c9ed98705f"
      },
      "source": [
        "from scipy.sparse.linalg import norm\n",
        "from scipy.sparse import csr_matrix, dok_matrix\n",
        "\n",
        "user_ratings = user_book_ratings.groupby(['user_id', 'title']).agg({'rating':'mean'})\n",
        "\n",
        "user_ratings = user_ratings.reset_index()\n",
        "\n",
        "indices = np.array([(userID, title_mapping[title]) for userID, title, rating in user_ratings.to_numpy()])\n",
        "\n",
        "row_index = indices[:, 0]\n",
        "col_index = indices[:, 1]\n",
        "values = np.array([rating for userID, title, rating in user_ratings.to_numpy() ])\n",
        "\n",
        "n_users = user_ratings.user_id.max() + 1\n",
        "\n",
        "print(row_index.shape, n_users)\n",
        "user_pref = csr_matrix((values, (row_index, col_index)), shape=(n_users, n_books))"
      ],
      "id": "progressive-behavior",
      "execution_count": null,
      "outputs": [
        {
          "output_type": "stream",
          "text": [
            "(5975165,) 53426\n"
          ],
          "name": "stdout"
        }
      ]
    },
    {
      "cell_type": "code",
      "metadata": {
        "id": "FAXVei8kTACZ"
      },
      "source": [
        "from scipy.sparse.linalg import norm\n",
        "\n",
        "def get_recommendations(user):\n",
        "  \n",
        "  user_profile = np.array(user_pref[user].toarray())\n",
        "  mean_rating = user_profile.mean()\n",
        "\n",
        "  normalized_ratings = csr_matrix([(val - mean_rating) if val > 0 else val for val in user_profile[0,:]])\n",
        "  \n",
        "\n",
        "  user_profile = normalized_ratings@books_vector\n",
        "\n",
        "  print(user_profile.shape, user_profile.getnnz())\n",
        "  \n",
        "  cosines = np.array(user_profile @ books_vector.T / norm(user_profile) / norm(books_vector, axis = 1) )\n",
        "\n",
        "  most_similar = pd.DataFrame({'similarity score' : cosines.flatten()}, index = range(cosines.shape[1]))\n",
        "  \n",
        "  \n",
        "  titles = np.array([title for title in books.sort_values(['title']).title.unique()])\n",
        "  books_read_by_user = [title_mapping[book] for book in user_book_ratings[user_book_ratings.user_id == user]['title'].to_numpy()]\n",
        "\n",
        "  most_similar = most_similar[~most_similar.index.isin(books_read_by_user)]\n",
        "  most_similar.sort_values(by = 'similarity score',ascending = False, inplace = True)\n",
        "  \n",
        "  recommendations = most_similar.merge(right = pd.DataFrame({\n",
        "      'book title' : title_mapping.keys()\n",
        "  },index = title_mapping.values()) , how = 'inner', left_index = True, right_index = True)\n",
        "\n",
        "  print(tags[tags.tag_id.isin(np.argsort(user_profile.toarray()[0])[::-1][:20])]['tag_name'])\n",
        "  top10 = recommendations[: 10]\n",
        "\n",
        "  top_tags = np.array(books_vector[top10.index].toarray()).argsort(axis = 1)[:,::-1][:,:10]\n",
        "  display([tags[tags.tag_id.isin(row)]['tag_name'].values for row in top_tags])\n",
        "  display(books[books.title.isin(user_book_ratings[user_book_ratings.user_id == user]['title'].to_numpy())])\n",
        "  display(top10)"
      ],
      "id": "FAXVei8kTACZ",
      "execution_count": null,
      "outputs": []
    },
    {
      "cell_type": "code",
      "metadata": {
        "colab": {
          "base_uri": "https://localhost:8080/",
          "height": 1000
        },
        "id": "kxZWHqwBRnao",
        "outputId": "42e9bf0e-bb78-4b8f-bd6e-e72120c0888e"
      },
      "source": [
        "get_recommendations(53425)"
      ],
      "id": "kxZWHqwBRnao",
      "execution_count": null,
      "outputs": [
        {
          "output_type": "stream",
          "text": [
            "(1, 34252) 111\n",
            "2106       all-time-favourites\n",
            "6838       childhood-favorites\n",
            "6914            children-s-lit\n",
            "6920     children-s-literature\n",
            "11491                    faves\n",
            "11574                favourite\n",
            "11579          favourite-books\n",
            "14017             harry-potter\n",
            "14024      harry-potter-series\n",
            "15965              j-k-rowling\n",
            "16427               jk-rowling\n",
            "19974             middle-grade\n",
            "24092                   potter\n",
            "24964                 re-reads\n",
            "25234      read-more-than-once\n",
            "25770                  rereads\n",
            "30573               to-re-read\n",
            "32623                  witches\n",
            "32654                  wizards\n",
            "33165                    youth\n",
            "Name: tag_name, dtype: object\n"
          ],
          "name": "stdout"
        },
        {
          "output_type": "display_data",
          "data": {
            "text/plain": [
              "[array(['all-time-favourites', 'favourite-books', 'harry-potter',\n",
              "        'harry-potter-series', 'j-k-rowling', 'jk-rowling', 'magical',\n",
              "        'potter', 'rereads', 'wizards'], dtype=object),\n",
              " array(['all-time-favourites', 'favourite-books', 'harry-potter',\n",
              "        'harry-potter-series', 'j-k-rowling', 'jk-rowling', 'potter',\n",
              "        'rereads', 'séries', 'wizards'], dtype=object),\n",
              " array(['fairytale', 'fairytales', 'harry-potter', 'harry-potter-series',\n",
              "        'hp', 'j-k-rowling', 'jk-rowling', 'potter', 'rowling', 'wizards'],\n",
              "       dtype=object),\n",
              " array(['50-books-to-read-before-you-die', 'absolute-favorites',\n",
              "        'all-time-faves', 'all-time-favs', 'favourite-series', 'harry',\n",
              "        'harry-potter', 'j-k-rowling', 'my-favorite-books', 'potter'],\n",
              "       dtype=object),\n",
              " array(['companion-books', 'fantasía', 'harry-potter',\n",
              "        'harry-potter-series', 'hp', 'j-k-rowling', 'jk-rowling', 'potter',\n",
              "        'rowling', 'wizards'], dtype=object),\n",
              " array(['boarding-school', 'harry-potter', 'harry-potter-series', 'hp',\n",
              "        'jk-rowling', 'magical', 'potter', 'read-multiple-times',\n",
              "        'rowling', 'wizards'], dtype=object),\n",
              " array(['absolute-favorites', 'box-sets', 'fav-books', 'harry',\n",
              "        'harry-potter', 'harry-potter-series', 'harrypotter',\n",
              "        'j-k-rowling', 'jk-rowling', 'potter'], dtype=object),\n",
              " array(['companion-books', 'dragons', 'harry-potter',\n",
              "        'harry-potter-series', 'hp', 'j-k-rowling', 'jk-rowling',\n",
              "        'novellas', 'potter', 'rowling'], dtype=object),\n",
              " array(['favourite-books-of-all-time', 'female-writer', 'love-it',\n",
              "        'my-absolute-favorites', 'old-friends', 'related-books', 'rowling',\n",
              "        'well-written', 'will-read-again', 'فانتزی'], dtype=object),\n",
              " array(['bookshelves', 'challenge', 'fantacy', 'favourite-series',\n",
              "        'harry-potter-series', 'hp', 'j-k-rowling', 'jk-rowling',\n",
              "        'my-favourites', 'watched-its-movie'], dtype=object)]"
            ]
          },
          "metadata": {
            "tags": []
          }
        },
        {
          "output_type": "display_data",
          "data": {
            "text/html": [
              "<div>\n",
              "<style scoped>\n",
              "    .dataframe tbody tr th:only-of-type {\n",
              "        vertical-align: middle;\n",
              "    }\n",
              "\n",
              "    .dataframe tbody tr th {\n",
              "        vertical-align: top;\n",
              "    }\n",
              "\n",
              "    .dataframe thead th {\n",
              "        text-align: right;\n",
              "    }\n",
              "</style>\n",
              "<table border=\"1\" class=\"dataframe\">\n",
              "  <thead>\n",
              "    <tr style=\"text-align: right;\">\n",
              "      <th></th>\n",
              "      <th>book_id</th>\n",
              "      <th>goodreads_book_id</th>\n",
              "      <th>title</th>\n",
              "      <th>authors</th>\n",
              "    </tr>\n",
              "  </thead>\n",
              "  <tbody>\n",
              "    <tr>\n",
              "      <th>1</th>\n",
              "      <td>2</td>\n",
              "      <td>3</td>\n",
              "      <td>Harry Potter and the Sorcerer's Stone (Harry P...</td>\n",
              "      <td>J.K. Rowling, Mary GrandPré</td>\n",
              "    </tr>\n",
              "    <tr>\n",
              "      <th>17</th>\n",
              "      <td>18</td>\n",
              "      <td>5</td>\n",
              "      <td>Harry Potter and the Prisoner of Azkaban (Harr...</td>\n",
              "      <td>J.K. Rowling, Mary GrandPré, Rufus Beck</td>\n",
              "    </tr>\n",
              "    <tr>\n",
              "      <th>22</th>\n",
              "      <td>23</td>\n",
              "      <td>15881</td>\n",
              "      <td>Harry Potter and the Chamber of Secrets (Harry...</td>\n",
              "      <td>J.K. Rowling, Mary GrandPré</td>\n",
              "    </tr>\n",
              "    <tr>\n",
              "      <th>24</th>\n",
              "      <td>25</td>\n",
              "      <td>136251</td>\n",
              "      <td>Harry Potter and the Deathly Hallows (Harry Po...</td>\n",
              "      <td>J.K. Rowling, Mary GrandPré</td>\n",
              "    </tr>\n",
              "  </tbody>\n",
              "</table>\n",
              "</div>"
            ],
            "text/plain": [
              "    book_id  ...                                  authors\n",
              "1         2  ...              J.K. Rowling, Mary GrandPré\n",
              "17       18  ...  J.K. Rowling, Mary GrandPré, Rufus Beck\n",
              "22       23  ...              J.K. Rowling, Mary GrandPré\n",
              "24       25  ...              J.K. Rowling, Mary GrandPré\n",
              "\n",
              "[4 rows x 4 columns]"
            ]
          },
          "metadata": {
            "tags": []
          }
        },
        {
          "output_type": "display_data",
          "data": {
            "text/html": [
              "<div>\n",
              "<style scoped>\n",
              "    .dataframe tbody tr th:only-of-type {\n",
              "        vertical-align: middle;\n",
              "    }\n",
              "\n",
              "    .dataframe tbody tr th {\n",
              "        vertical-align: top;\n",
              "    }\n",
              "\n",
              "    .dataframe thead th {\n",
              "        text-align: right;\n",
              "    }\n",
              "</style>\n",
              "<table border=\"1\" class=\"dataframe\">\n",
              "  <thead>\n",
              "    <tr style=\"text-align: right;\">\n",
              "      <th></th>\n",
              "      <th>similarity score</th>\n",
              "      <th>book title</th>\n",
              "    </tr>\n",
              "  </thead>\n",
              "  <tbody>\n",
              "    <tr>\n",
              "      <th>2959</th>\n",
              "      <td>0.937010</td>\n",
              "      <td>Harry Potter and the Half-Blood Prince (Harry ...</td>\n",
              "    </tr>\n",
              "    <tr>\n",
              "      <th>2958</th>\n",
              "      <td>0.935692</td>\n",
              "      <td>Harry Potter and the Goblet of Fire (Harry Pot...</td>\n",
              "    </tr>\n",
              "    <tr>\n",
              "      <th>8666</th>\n",
              "      <td>0.647403</td>\n",
              "      <td>The Tales of Beedle the Bard</td>\n",
              "    </tr>\n",
              "    <tr>\n",
              "      <th>2949</th>\n",
              "      <td>0.621682</td>\n",
              "      <td>Harry Potter Boxset (Harry Potter, #1-7)</td>\n",
              "    </tr>\n",
              "    <tr>\n",
              "      <th>5135</th>\n",
              "      <td>0.618315</td>\n",
              "      <td>Quidditch Through the Ages</td>\n",
              "    </tr>\n",
              "    <tr>\n",
              "      <th>2960</th>\n",
              "      <td>0.611508</td>\n",
              "      <td>Harry Potter and the Order of the Phoenix (Har...</td>\n",
              "    </tr>\n",
              "    <tr>\n",
              "      <th>2950</th>\n",
              "      <td>0.603957</td>\n",
              "      <td>Harry Potter Collection (Harry Potter, #1-6)</td>\n",
              "    </tr>\n",
              "    <tr>\n",
              "      <th>2355</th>\n",
              "      <td>0.583565</td>\n",
              "      <td>Fantastic Beasts and Where to Find Them</td>\n",
              "    </tr>\n",
              "    <tr>\n",
              "      <th>2961</th>\n",
              "      <td>0.495631</td>\n",
              "      <td>Harry Potter and the Order of the Phoenix (Har...</td>\n",
              "    </tr>\n",
              "    <tr>\n",
              "      <th>7293</th>\n",
              "      <td>0.473323</td>\n",
              "      <td>The Harry Potter Collection 1-4 (Harry Potter,...</td>\n",
              "    </tr>\n",
              "  </tbody>\n",
              "</table>\n",
              "</div>"
            ],
            "text/plain": [
              "      similarity score                                         book title\n",
              "2959          0.937010  Harry Potter and the Half-Blood Prince (Harry ...\n",
              "2958          0.935692  Harry Potter and the Goblet of Fire (Harry Pot...\n",
              "8666          0.647403                       The Tales of Beedle the Bard\n",
              "2949          0.621682           Harry Potter Boxset (Harry Potter, #1-7)\n",
              "5135          0.618315                         Quidditch Through the Ages\n",
              "2960          0.611508  Harry Potter and the Order of the Phoenix (Har...\n",
              "2950          0.603957       Harry Potter Collection (Harry Potter, #1-6)\n",
              "2355          0.583565            Fantastic Beasts and Where to Find Them\n",
              "2961          0.495631  Harry Potter and the Order of the Phoenix (Har...\n",
              "7293          0.473323  The Harry Potter Collection 1-4 (Harry Potter,..."
            ]
          },
          "metadata": {
            "tags": []
          }
        }
      ]
    }
  ]
}